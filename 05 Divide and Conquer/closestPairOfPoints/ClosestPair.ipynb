{
 "cells": [
  {
   "cell_type": "markdown",
   "metadata": {},
   "source": [
    "<div style=\"direction:rtl;line-height:300%;\"> <font face=\"XB Zar\">\n",
    "<div align=center>\n",
    "    <div style=\"font-size:14px\">\n",
    "    به نام خدا\n",
    "    </div><br>\n",
    "    <strong><div style=\"font-size:50px; color: blue\">\n",
    "    طراحی الگوریتم‌ها\n",
    "    </div></strong>\n",
    "    <br>\n",
    "    <div style=\"font-size:20px; color: #ff6600\">\n",
    "    دانشگاه صنعتی شریف، دانشکده مهندسی کامپیوتر\n",
    "    </div>\n",
    "    <div style=\"font-size:15px; color: black\">\n",
    "        نیم‌سال دوم سال تحصیلی ۹۸-۹۹\n",
    "    </div>\n",
    "    <hr>\n",
    "    <strong><div style=\"font-size:35px; color: red\">\n",
    "        فصل 4 \n",
    "    </div></strong><br>\n",
    "    <div style=\"font-size:30px; color: navy\">\n",
    "        تقسیم و حل: نزدیکترین زوج نقاط\n",
    "    </div><br>\n",
    "    <div style=\"font-size:20px; color: black\">\n",
    "       -\n",
    "    </div>\n",
    "\n",
    "</div>\n",
    "<hr>"
   ]
  },
  {
   "cell_type": "markdown",
   "metadata": {},
   "source": [
    "<div style=\"direction:rtl; font-size: 17px; font-family: 'XB Zar'; line-height: 200%\">\n",
    "<div style=\"font-size: 22px; color: #ff6600; font-weight: bold\">\n",
    "فهرست محتویات\n",
    "</div>         \n",
    "<ul style=\"margin-right: 0;\">\n",
    "    <li><a href=\"#section1\">مساله</a></li>\n",
    "    <li><a href=\"#section2\">راه‌حل اولیه</a></li>\n",
    "    <li><a href=\"#section3\">وارد کردن ‌تقسیم‌و‌حل</a></li>\n",
    "    <li><a href=\"#section4\">روش تقسیم‌و‌حل</a></li>\n",
    "    <li><a href=\"#section5\">پیچیدگی زمانی</a></li>\n",
    "    <li><a href=\"#section6\">اثبات درستی</a></li>\n",
    "</ul>\n",
    "</div>"
   ]
  },
  {
   "cell_type": "code",
   "execution_count": 1,
   "metadata": {},
   "outputs": [
    {
     "ename": "SyntaxError",
     "evalue": "invalid syntax (<ipython-input-1-014b9bf55bd5>, line 2)",
     "output_type": "error",
     "traceback": [
      "\u001b[1;36m  File \u001b[1;32m\"<ipython-input-1-014b9bf55bd5>\"\u001b[1;36m, line \u001b[1;32m2\u001b[0m\n\u001b[1;33m    using namespace std;\u001b[0m\n\u001b[1;37m                  ^\u001b[0m\n\u001b[1;31mSyntaxError\u001b[0m\u001b[1;31m:\u001b[0m invalid syntax\n"
     ]
    }
   ],
   "source": [
    "#include <bits/stdc++.h> \n",
    "using namespace std;"
   ]
  },
  {
   "cell_type": "markdown",
   "metadata": {},
   "source": [
    "<div id=\"section1\" style=\"direction:rtl; font-size: 17px; font-family: 'XB Zar'; line-height: 200%\">\n",
    "<div style=\"font-size: 22px; color: #ff6600; font-weight: bold\">\n",
    "صورت مساله\n",
    "</div>\n",
    "n نقطه داریم، و می‌خواهیم دو نقطه‌ای که کمترین فاصله را از هم دارند را پیدا کنیم.\n",
    "<br>\n",
    " این مساله در حالت کلی و برای فضای $k$بعدی هم مطرح می‌شود. در اینجا تمرکزمان روی صفحه ($k = 2$) است. فاصله را هم همان فاصله‌ی اقلیدسی ($\\sqrt{(x_1 - x_2)^2 + (y_1 - y_2)^2}$) می‌گیریم \n",
    "</div>\n",
    "<hr>"
   ]
  },
  {
   "cell_type": "code",
   "execution_count": null,
   "metadata": {},
   "outputs": [],
   "source": [
    "class Point { \n",
    "  \tpublic:\n",
    "\tint x;\n",
    "    int y; \n",
    "}; \n",
    "\n",
    "double distance(Point p1, Point p2) \n",
    "{ \n",
    "\treturn (p1.x - p2.x)*(p1.x - p2.x) + (p1.y - p2.y)*(p1.y - p2.y); \n",
    "}"
   ]
  },
  {
   "cell_type": "markdown",
   "metadata": {},
   "source": [
    "<div id=\"section2\" style=\"direction:rtl; font-size: 17px; font-family: 'XB Zar'; line-height: 200%\">\n",
    "<div style=\"font-size: 22px; color: #ff6600; font-weight: bold\">\n",
    "حل اولیه\n",
    "</div>\n",
    "    راه حل ساده این است که فاصله‌ی هر دو تا نقطه از همدیگر را حساب کنیم بعد بین فاصله‌ها مینیمم بگیریم.<br>\n",
    "    پس باید به تعداد ${n \\choose 2}$ تا فاصله حساب کنیم و بعد مینیمم بگیریم، که این یعنی پیچیدگی زمانی‌اش $O(n^2)$ می‌شود.  \n",
    "<br>\n",
    "<hr>\n",
    "</div>    "
   ]
  },
  {
   "cell_type": "code",
   "execution_count": null,
   "metadata": {},
   "outputs": [],
   "source": [
    "double bruteForce(Point P[], int n) \n",
    "{ \n",
    "\tdouble min = FLT_MAX; \n",
    "\tfor (int i = 0; i < n; ++i) \n",
    "\t\tfor (int j = i+1; j < n; ++j) \n",
    "\t\t\tif (distance(P[i], P[j]) < min) \n",
    "\t\t\t\tmin = distance(P[i], P[j]); \n",
    "\treturn min; \n",
    "} "
   ]
  },
  {
   "cell_type": "markdown",
   "metadata": {},
   "source": [
    "<div id=\"section3\" style=\"direction:rtl; font-size: 17px; font-family: 'XB Zar'; line-height: 200%\">\n",
    "<div style=\"font-size: 17px; color: #ff6600; font-weight: bold\">\n",
    "تقسیم و حل:\n",
    "</div>        \n",
    "حالا اگر بدانیم که می‌خواهیم با تقسیم و حل مسئله را حل کنیم، احتمالا تصمیم می‌گیریم که نقطه‌ها را به دسته‌های مختلف تقسیم کنیم که نقاط در یک دسته‌ به هم نزدیک‌ترند تا نقاط در دو دسته‌ی مختلف. بعد بین نقاط هر دسته فاصله‌ها را دو‌به‌دو حساب کنیم.<br>\n",
    "    اما باید به این فکر کنیم که:\n",
    "    <ol>\n",
    "<li>\t نقطه‌ها را بر چه اساسی دسته‌بندی کنیم.</li>\n",
    "<li>\tنقطه‌های مرزی هر دسته هم باید فاصله‌شان با نقطه‌های مرزی دسته‌های دیگر حساب شود؛ چون ممکن است کم‌ترین فاصله، بین دو نقطه‌ی مرزی از دو ناحیه‌ی مختلف باشد. تا چه حد نقطه‌ها را مرزی بگیریم و فاصله‌ی بینشان را حساب کنیم که نه آنقدر کم باشد که گاهی جواب درست مساله را وقتی دو تا نقطه‌ی مرزی‌اند نبینیم، و نه آنقدر زیاد باشد که عملا کل نقطه‌ها را مرزی بگیریم و زمان اجرا مثل حالت بدون دسته‌بندی شود.</li>\n",
    "    </ol>\n",
    "\n",
    "<hr>\n",
    "</div>"
   ]
  },
  {
   "cell_type": "markdown",
   "metadata": {},
   "source": [
    "<div style=\"direction:rtl; font-size: 17px; font-family: 'XB Zar'; line-height: 200%\">\n",
    "<div style=\"font-size: 17px; color: #ff6600; font-weight: bold\">\n",
    "پیش‌پردازش\n",
    "</div>\n",
    "دسته‌بندی: اول این زوج مرتب‌ها را بر اساس مولفه $x$ آنها مرتب می‌کنیم (در واقع داریم نقطه‌هایی که $x$ آنها به هم نزدیک‌تر است را در یک دسته قرار می دهیم). مرتب کردنشان $O(nlogn)$ هزینه می‌برد.\n",
    "<hr>\n",
    "</div>"
   ]
  },
  {
   "cell_type": "code",
   "execution_count": null,
   "metadata": {
    "pycharm": {
     "name": "#%%\n"
    }
   },
   "outputs": [],
   "source": [
    "int compareByX(const void* p1, const void* p2) \n",
    "{ \n",
    "\tPoint *p11 = (Point *)p1;\n",
    "    Point *p22 = (Point *)p2; \n",
    "\treturn (p11->x - p22->x); \n",
    "} \n",
    "\n",
    "void preprocess(Point P[], int n) \n",
    "{ \n",
    "\tqsort(P, n, sizeof(Point), compareByX); \n",
    "}\n"
   ]
  },
  {
   "cell_type": "markdown",
   "metadata": {
    "pycharm": {
     "name": "#%% md\n"
    }
   },
   "source": [
    "<div  id=\"section4\" style=\"direction:rtl; font-size: 17px; font-family: 'XB Zar'; line-height: 200%\">\n",
    "<div style=\"font-size: 17px; color: #ff6600; font-weight: bold\">\n",
    "مراحل حل\n",
    "</div>    \n",
    "    <ol>\n",
    "<li>\tیک مقدار میانی انتخاب می‌کنیم که نقطه‌هایی که $x$ آنها بیشتر از آن مقدار بود در یک دسته و نقطه‌هایی که x آنها کمتر بود در دسته‌ی دیگر قرار می دهیم. مثلا می‌توانیم $x$ نقطه‌ی  $\\frac{n}{2}$ام را حد وسط بگیریم. بنابراین معادله‌ی این خط وسط می‌شود\n",
    " $x = P[\\frac{n}{2}]$\n",
    " </li>\n",
    "<li>\tحالا آرایه نقاط را به دو نیمه تقسیم می‌کنیم. طبیعتا نصف نقاط در نیمه اول و نصف دیگر در نیمه‌ی دوم قرار می‌گیرند.</li>\n",
    "<li>\tبه طور بازگشتی مرحله‌ی 1 و 2 را روی هر کدام از قسمت‌ها انجام می‌دهیم. حالا اگر به جایی رسیدیم که در یک قسمت فقط دو یا سه نقطه داشتیم، بین دو‌به‌دوی آنها فاصله را حساب می‌کنیم و مینیمم فاصله آن بخش را بدست می‌آوریم.</li>\n",
    "<li>\t فرض کنیم در یک مرحله‌، مینیمم فاصله‌ی نقاط طرف راست حد وسط آن مرحله را پیدا کردیم، مینیمم فاصله‌ی نقاط طرف چپ حد وسط آن مرحله را هم پیدا کردیم. حالا بین این دو تا مینیمم هم یک مینیمم می‌گیریم، که مثلا به آن می‌گوییم ‌d.</li>\n",
    "\n",
    "<div class=\"col-sm-12\">\n",
    "    <div class=\"col-sm-4\">\n",
    "       <img src=\"ClosestPair1.PNG\"> \n",
    "    </div>\n",
    "    <div class=\"col-sm-8\">\n",
    "     <li>\t حالا این d، یک حد بالای جواب نهایی مسئله است. باید دو نیمه را ادغام کنیم. برای این کار، باید زوج نقاطی که در آنها دو نقطه در دو طرف متفاوت خط وسط هستند را در نظر بگیریم (نقاط مرزی). <br> \n",
    "چه نقاطی را مرزی بگیریم؟ آنهایی که فاصله‌شان از خط وسط کمتر از d باشد (و گرنه قطعا فاصله‌شان از یک نقطه‌ی آن طرف خط بیشتر از ‌d می‌شود پس نمی‌توانند جواب مساله باشند.)\n",
    "همه‌ی این نقاط را در یک آرایه می‌ریزیم. مثلا آرایه‌ی border. </li>\n",
    "             \n",
    "</div>\n",
    "</div>\n",
    "<li>\tحالا مینیمم فاصله‌ی بین نقاط موجود در border را حساب می‌کنیم (مثلا به آن می‌گوییم $d_2$). مینیمم d و $d_2$ جواب نهایی است.</li>\n",
    "    </ol>\n",
    "    اما مشکلی که پیش می‌آید این است که ممکن است که تعداد زیادی از نقاط در فاصله‌ی d از خط وسط باشند، بنابراین ممکن است آرایه‌ی $border$ تعداد اعضای زیادی داشته باشد و در آن صورت، پیدا کردن مینیمم فاصله‌ی بین این اعضا از راه حساب کردن فاصله‌ی هر دو تا نقطه و مینیمم گرفتن، باعث می‌شود که باز هم پیچیدگی زمانی الگوریتم $O(n^2)$ شود. برای حل این مشکل، نقاط موجود در این آرایه را به ترتیب $y$شان مرتب می‌کنیم. با هندسه اثبات می‌شود که در این صورت برای هر نقطه، محاسبه‌ی فاصله‌ی آن با 15 نقطه بعد از آن کافیست.\n",
    "    در کد زیر شرط گذاشته‌ایم که تنها در صورتی اختلاف دو نقطه‌ی مرزی را حساب کنیم که اختلاف $y$هایشان کمتر از dباشد. این شرط معادل این است که برای هر نقطه حداکثر فاصله‌اش با 15 نقطه بعد از آن  را پیدا کنیم.\n",
    "    (برای اثبات کافی بودن این دو شرط می‌توانید\n",
    "    <a href=\"https://www.cs.cmu.edu/~ckingsf/bioinfo-lectures/closepoints.pdf\">اینجا</a>\n",
    "    را ببینید. برای 7 نقطه هم می‌توان این قضیه را اثبات کرد)\n",
    "با مرتب کردن نقاط به ترتیب $y$، به جای اینکه فاصله‌ی هر دو نقطه را پیدا کنیم، به ازای هر نقطه فاصله‌اش با 7 نقطه‌ی دیگر را حساب می‌کنیم و آنگاه پیچیدگی زمانی این قسمت از $O(n^2)$ به $O(nlogn) + O(15n)$  یا همان $O(nlogn)$ کاهش می‌یابد.\n",
    " \n",
    "<hr>\n",
    "</div>"
   ]
  },
  {
   "cell_type": "code",
   "execution_count": null,
   "metadata": {},
   "outputs": [],
   "source": [
    "int compareByY(const void* p1, const void* p2) \n",
    "{ \n",
    "\tPoint *p11 = (Point *)p1;\n",
    "    Point *p22 = (Point *)p2; \n",
    "\treturn (p11->y - p22->y); \n",
    "} \n",
    "\n",
    "double checkBorder(Point border[], int size, double d) \n",
    "{ \n",
    "\tdouble min = d;  \n",
    "\tqsort(border, size, sizeof(Point), compareByY); \n",
    " \n",
    "\tfor (int i = 0; i < size; i++) \n",
    "\t\tfor (int j = i+1; j < size && (border[j].y - border[i].y) < min; j++) \n",
    "\t\t\tif (distance(border[i],border[j]) < min) \n",
    "\t\t\t\tmin = distance(border[i], border[j]);\n",
    "  \n",
    "\treturn min; \n",
    "} \n",
    "\n",
    "double min(double d1, double d2) \n",
    "{ \n",
    "\tif (d1 <= d2){\n",
    "      return d1;\n",
    "    } \n",
    "  \treturn d2;\n",
    "} \n",
    "\n",
    "double divideAndConquer(Point P[], int n) \n",
    "{ \n",
    "\tif (n <= 3) {\n",
    "\t\treturn bruteForce(P, n); \n",
    "    }\n",
    "\n",
    "    int middle = n/2; \n",
    "\tPoint midPoint = P[middle]; \n",
    " \n",
    "\tdouble dl = divideAndConquer(P, middle); \n",
    "\tdouble dr = divideAndConquer(P + middle, n - middle); \n",
    "\tdouble d = min(dl, dr); \n",
    "\n",
    "\tPoint border[n]; \n",
    "\tint j = 0; \n",
    "\tfor (int i = 0; i < n; i++) \n",
    "\t\tif (abs(P[i].x - midPoint.x) < d) \n",
    "\t\t\tborder[j] = P[i];\n",
    "  \t\t\tj++; \n",
    "\n",
    "\treturn min(d, checkBorder(border, j, d)); \n",
    "} "
   ]
  },
  {
   "cell_type": "code",
   "execution_count": null,
   "metadata": {},
   "outputs": [],
   "source": [
    "double findClosestPair(Point P[], int n) \n",
    "{ \n",
    "\tpreprocess(P, n); \n",
    "\treturn sqrt(divideAndConquer(P, n)); \n",
    "} "
   ]
  },
  {
   "cell_type": "markdown",
   "metadata": {},
   "source": [
    "<div id=\"section5\" style=\"direction:rtl; font-size: 17px; font-family: 'XB Zar'; line-height: 200%\">\n",
    "<div style=\"font-size: 17px; color: #ff6600; font-weight: bold\">\n",
    "پیچیدگی زمانی\n",
    "</div>            \n",
    "    فرض کنیم که پیچیدگی زمانی الگوریتم برای n داده، $T(n)$ باشد. و فرض کنیم که از یک الگوریتم مرتب‌سازی با پیچیدگی $O(nlog(n))$ استفاده می‌کنیم (اینجا از Quick Sort استفاده کردیم که برای حجم داده‌های کمتر، عملکرد بهتری دارد. اما در تعداد داده‌های زیاد، این الگوریتم پیچیدگی زمانی ‌$O(n^2)$ دارد و در آن شرایط بهتر است از Merge Sort استفاده کنیم). الگوریتم نقطه‌ها را به دو مجموعه تقسیم می‌کند و بعد، در زمان $O(n)$ آرایه‌ی border را درست  می‌کند، آن را در زمان $O(nlog(n))$ مرتب می‌کند و سپس نزدیکترین زوج نقاط موجود در آرایه‌ی border را در زمان $O(n)$ پیدا می‌کند. بنابراین رابطه بازگشتی T به این صورت می‌شود:\n",
    "    <div dir=\"ltr\">\n",
    "$T(n) = 2T(\\frac{n}{2}) + O(nLogn)$ <br>\n",
    "$T(n) = O({n}\\times{ Logn}\\times { Logn})$\n",
    "    </div>\n",
    "    حال اگر از اول یک کپی از آرایه بگیریم و نقاط آن را بر حسب $y$ مرتب کنبم و در هر بار که نقاط را به دو مجموعه تقسیم می‌کنیم، اعضای دو مجموعه را از روی این مجموعه‌ی مرتب شده بر حسب $y$ مرتب کنیم، زمان مرتب‌سازی از $O(nlog(n))$ به $O(n)$ کاهش پیدا می‌کند و بنابراین رابطه بازگشتی بالا به این شکل تغییر می‌کند: <br>\n",
    "     <div dir=\"ltr\">\n",
    "$T(n) = 2T(\\frac{n}{2}) + O(n)$ <br>\n",
    "$T(n) = O({n}\\times{ Logn})$\n",
    "    </div>\n",
    "<hr>\n",
    "</div>"
   ]
  }
 ],
 "metadata": {
  "kernelspec": {
   "display_name": "Python 3",
   "language": "python",
   "name": "python3"
  },
  "language_info": {
   "codemirror_mode": {
    "name": "ipython",
    "version": 3
   },
   "file_extension": ".py",
   "mimetype": "text/x-python",
   "name": "python",
   "nbconvert_exporter": "python",
   "pygments_lexer": "ipython3",
   "version": "3.7.4"
  },
  "pycharm": {
   "stem_cell": {
    "cell_type": "raw",
    "metadata": {
     "collapsed": false
    },
    "source": []
   }
  }
 },
 "nbformat": 4,
 "nbformat_minor": 1
}
