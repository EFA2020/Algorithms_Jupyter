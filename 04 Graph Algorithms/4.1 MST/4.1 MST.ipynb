{
 "cells": [
  {
   "cell_type": "markdown",
   "metadata": {},
   "source": [
    "<div style=\"direction:rtl;line-height:300%;\"> <font face=\"XB Zar\">\n",
    "<div align=center>\n",
    "    <div style=\"font-size:14px\">\n",
    "    به نام خدا\n",
    "    </div><br>\n",
    "    <strong><div style=\"font-size:50px; color: blue\">\n",
    "    طراحی الگوریتم‌ها\n",
    "    </div></strong>\n",
    "    <br>\n",
    "    <div style=\"font-size:20px; color: #ff6600\">\n",
    "    دانشگاه صنعتی شریف، دانشکده مهندسی کامپیوتر\n",
    "    </div>\n",
    "    <div style=\"font-size:15px; color: black\">\n",
    "        نیم‌سال دوم سال تحصیلی ۹۸-۹۹\n",
    "    </div>\n",
    "    <hr>\n",
    "    <strong><div style=\"font-size:35px; color: red\">\n",
    "        فصل چهارم: گراف\n",
    "    </div></strong><br>\n",
    "    <div style=\"font-size:30px; color: navy\">\n",
    "        بخش اول: درخت پوشای کمینه\n",
    "    </div><br>\n",
    "    <div style=\"font-size:20px; color: black\">\n",
    "        محمد مهدوی\n",
    "    </div>\n",
    "\n",
    "</div>\n",
    "<hr>"
   ]
  },
  {
   "cell_type": "markdown",
   "metadata": {},
   "source": [
    "<div style=\"direction:rtl; font-size: 17px; font-family: 'XB Zar'; line-height: 200%\">\n",
    "<div style=\"font-size: 22px; color: #ff6600; font-weight: bold\">\n",
    "فهرست محتویات\n",
    "</div>         \n",
    "<ul style=\"margin-right: 0;\">\n",
    "    <li><a href=\"#section1\">مقدمه</a></li>\n",
    "    <li><a href=\"#section2\">الگوریتم Prim</a></li>\n",
    "    <li><a href=\"#section3\">الگوریتم Kruskal</a></li>\n",
    "</ul>\n",
    "</div>"
   ]
  },
  {
   "cell_type": "markdown",
   "metadata": {},
   "source": [
    "<div id=\"section1\" style=\"direction:rtl; font-size: 17px; font-family: 'XB Zar'; line-height: 200%\">\n",
    "<div style=\"font-size: 22px; color: #ff6600; font-weight: bold\">\n",
    "مسئله درخت پوشای کمینه\n",
    "</div><br>\n",
    "    شبکه‌ای از کامپیوترها را در نظر بگیرید که با تعدادی لینک دوطرفه به هم متصل شده باشند. فرض کنید هر لینک هزینه ای برای انتقال پیام داشته باشد. حال ما می‌خواهیم پیامی را از یک کامپیوتر دلخواه با استفاده از تعدادی از لینک‌ها به بقیه کامپیوترها انتقال دهیم. اگر فرض کنیم هزینه این انتقال برابر جمع هزینه لینک‌هایی باشد که استتفاده می‌کنیم و بخواهیم این هزینه را کمینه کنیم، این مسئله به گرافی با یال های وزن‌دار با وزن‌های مثبت مدل می‌شود که می‌خواهیم تعدادی از یال‌های آن را انتخاب کنیم به طوری که جمع وزن آن‌ها کمینه شود و گرافی همبند تشکیل دهند. \n",
    "    <br>\n",
    "می توان دید که چنین زیرگرافی باید حتما یک درخت را تشکیل دهد زیرا اگر دوری داشته باشد با حذف هر یال دور همبند می‌ماند و چون یال‌ها وزن مثبت دارند با حذف آن جمع وزن‌ها کم می‌شود. پس این زیرگراف درختی شامل تمام راس‌های گراف می‌شود که کمترین جمع وزن‌ها را دارد و به آن درخت پوشای کمینه یا Minimum Spanning Tree(MST) می‌گویند. ساختن جاده‌هایی برای وصل کردن تعدادی شهر با کمترین هزینه، طراحی مدارها و ... مثال‌های دیگری از استفاده‌های درخت کمینه پوشا هستند. در مسئله درخت پوشای کمینه می‌خواهیم برای یک گراف درخت پوشای کمینه آن را پیدا کنیم.\n",
    "<br>\n",
    "\n",
    "</div>\n",
    "<hr>"
   ]
  },
  {
   "cell_type": "markdown",
   "metadata": {},
   "source": [
    "<div id=\"section2\" style=\"direction:rtl; font-size: 17px; font-family: 'XB Zar'; line-height: 200%\">\n",
    "<div style=\"font-size: 22px; color: #ff6600; font-weight: bold\">\n",
    "الگوریتم Prim\n",
    "</div><br>            \n",
    "می‌خواهیم الگوریتمی برای یافتن MST در یک گراف همبند پیدا کنیم.<br>\n",
    "    فرض کنید می‌خواهیم یال به یال درخت پوشا را بیابیم. آیا یالی وجود دارد که بتوان گفت حتما در جواب وجود دارد یا ندارد؟\n",
    "<br>\n",
    "     می‌توان دید که درخت پوشای کمینه حتما شامل کم‌وزن‌ترین یال گراف می‌شود؛ اگر این یال در درخت پوشای کمینه نباشد با اضافه کردن آن دوری تشکیل می‌شود که با حذف هر یال دیگر آن باز یک درخت پوشا خواهیم داشت که وزنش کمترمساوی وزن درخت پوشای قبلی می‌شود چون یک یال با یال با کمترین وزن جایگزین شده است پس این درخت حتما یک درخت پوشای کمینه خواهد بود که شامل کم‌وزن‌ترین یال است.\n",
    "    <br>می‌توان با همین استدلال دید که کم‌وزن‌ترین یال متصل به هر راس حتما در یک MST ظاهر می‌شود و با تعمیم آن ویژگی برش را داریم:\n",
    "<br>\n",
    "<strong>\n",
    "ویژگی برش:\n",
    "</strong>\n",
    "     برای هر افراز راس‌های گراف به دو دسته، یال‌های بین این دو دسته را در نظر می‌گیریم. هر یالی که بین این یال‌ها کمترین وزن را داشته باشد حتما در یک MST ظاهر شده‌است.<img src=\"cut-property.png\"> <br> اثبات این ویژگی نیز مانند اثبات آمدن یال کمینه در MST است؛ اگر این یال در یک MST نباشد با اضافه کردن آن دوری تشکیل می‌شود که در این دور یک یال باید از یال‌های بین دو دسته افراز باشد چون مسیر بین دو سر یال اضافه شده در درخت، یک سرش در یک دسته وسر دیگرش در دسته دیگر است. با حذف یال درون درخت و اضافه کردن یال مورد نظر زیرگراف درخت باقی می‌ماند چون یکی از یال‌های دور حذف شده است و وزن درخت نیز بیشتر نمی‌شود، پس این نیز حتما یک MST است. \n",
    "<br>\n",
    " اکثر الگوریتم‌های MST بر پایه ویژگی برش هستند.\n",
    "<br>\n",
    "    با استفاده از همین ویژگی می‌توانیم الگوریتمی برای یافتن MST پیدا کنیم: در هر مرحله یک درخت داریم که یال‌های آن حتما زیرمجموعه یک MST هستند. حال با افراز راس‌های گراف به راس‌های این درخت و بقیه راس‌های گراف ،کمترین یال بین این دو دسته را به به درختمان اضافه می‌کنیم و فرضمان طبق ویژگی برش درست می‌ماند و درخت جدید نیز زیرمجموعه یک MST خواهد بود چون یال اضافه شده عضو MST است. برای شروع الگوریتم نیز می‌توانیم از یک راس تنها شروع کنیم که شرط را دارد. با این کار الگوریتم $Prim$ را به صورت زیر داریم:\n",
    "<br>\n",
    "    در این الگوریتم یک مجموعه رئوس $S$ داریم که در ابتدا شامل یک راس $v$ است و در هر مرحله بین یال‌هایی که یک سرشان در $S$ و یک سرشان خارج از $S$ است یالی که کمترین وزن را دارد را می‌گیریم و آن را به MST و سر خارج از $S$ آن را به $S$ اضافه می‌کنیم. این مراحل را ادامه می‌دهیم تا راسی خارج از $S$ نباشد که در این صورت MST را یافته‌ایم. یک پیاده‌سازی این الگوریتم به صورت زیر است:\n",
    "</div>    "
   ]
  },
  {
   "cell_type": "code",
   "execution_count": 4,
   "metadata": {},
   "outputs": [],
   "source": [
    "#include<bits/stdc++.h>\n",
    "using namespace std;\n",
    "typedef pair<int,int> pii;\n",
    "const int N = 5, INF = 1e9 + 100;"
   ]
  },
  {
   "cell_type": "code",
   "execution_count": 4,
   "metadata": {},
   "outputs": [],
   "source": [
    "int prim(int parent[],int adj[N][N]){\n",
    "    bool inSet[N] = {false};\n",
    "    int bestEdge[N];\n",
    "    for(int i = 0; i < N; i++){\n",
    "        bestEdge[i] = INF;\n",
    "    }\n",
    "    bestEdge[0] = 0;\n",
    "    parent[0] = -1;\n",
    "    int minCost = 0;\n",
    "    for(int i = 0; i < N ; i++){\n",
    "        int v = -1;\n",
    "        for(int j = 0; j < N; j++){\n",
    "            if(!inSet[j] && (v == -1 || bestEdge[v] > bestEdge[j])){\n",
    "                v = j;\n",
    "            }\n",
    "        }\n",
    "        minCost += bestEdge[v];\n",
    "        inSet[v] = true;\n",
    "        for(int u = 0; u < N; u++){\n",
    "            if(adj[v][u]!=0 && !inSet[u] && adj[v][u] < bestEdge[u]){\n",
    "                bestEdge[u] = adj[v][u];\n",
    "                parent[u] = v;\n",
    "            }\n",
    "        }\n",
    "    }\n",
    "    return minCost;\n",
    "}"
   ]
  },
  {
   "cell_type": "code",
   "execution_count": 4,
   "metadata": {},
   "outputs": [
    {
     "ename": "SyntaxError",
     "evalue": "invalid syntax (<ipython-input-4-8740a1a0dd77>, line 2)",
     "output_type": "error",
     "traceback": [
      "\u001b[1;36m  File \u001b[1;32m\"<ipython-input-4-8740a1a0dd77>\"\u001b[1;36m, line \u001b[1;32m2\u001b[0m\n\u001b[1;33m    using namespace std;\u001b[0m\n\u001b[1;37m                  ^\u001b[0m\n\u001b[1;31mSyntaxError\u001b[0m\u001b[1;31m:\u001b[0m invalid syntax\n"
     ]
    }
   ],
   "source": [
    "{\n",
    "    int g[N][N] = {\n",
    "        {0,3,4,0,0},\n",
    "        {3,0,2,0,1},\n",
    "        {4,2,0,9,0},\n",
    "        {0,0,9,0,5},\n",
    "        {0,1,0,5,0},\n",
    "    };\n",
    "    int p[N] = {0};\n",
    "    cout<<prim(p,g)<<endl;\n",
    "    for(int i=0;i<N;i++){\n",
    "        cout<<p[i]<<\" \";\n",
    "    }\n",
    "    cout<<endl;\n",
    "}"
   ]
  },
  {
   "cell_type": "markdown",
   "metadata": {
    "pycharm": {
     "name": "#%% md\n"
    }
   },
   "source": [
    "<div style=\"direction:rtl; font-size: 17px; font-family: 'XB Zar'; line-height: 200%\">\n",
    "<div style=\"font-size: 17px; color: #ff6600; font-weight: bold\">\n",
    "تحلیل زمانی\n",
    "</div>            \n",
    "این پیاده‌سازی از $O(n^2)$\n",
    "زمان می‌برد زیرا حلقه بیرونی $n$ بار اجرا می‌شود و در هر اجرا کمینه یال با یک سر در مجموعه در $O(n)$ پیدا می‌شود و کمترین یال بقیه راس‌ها نیز در $O(n)$ آپدیت می‌شود.<br>\n",
    "    در هر مرحله در این پیاده‌سازی $inSet$ نشان می‌دهد کدام راس‌ها درون $S$ اند و $bestEdge$ برای راس‌های بیرون از $S$ وزن سبک‌تریم یال آن‌ها که سر دیگرش در $S$ است را دارد و برای یافتن سبک ترین یال از $S$ به بیرون آن کمترین $bestEdge$ برای راس‌های خارج از $S$ را می‌گیریم و عملیات گفته شده را انجام می‌دهیم.\n",
    "</div>"
   ]
  },
  {
   "cell_type": "markdown",
   "metadata": {
    "pycharm": {
     "name": "#%% md\n"
    }
   },
   "source": [
    "<div style=\"direction:rtl; font-size: 17px; font-family: 'XB Zar'; line-height: 200%\">\n",
    "اگر به جای ماتریس مجاورت از لیست مجاورت استفاده کنیم و برای یافتن راس با یال کمینه خارج از $S$ از هرم کمینه استفاده کنیم زمان اجرای الگوریتم برابر $O(m logn)$ می‌شود که این پیاده‌سازی نیز در زیر آمده‌است. همچنین اگر در این پیاده‌سازی از هرم فیبوناچی استفاده کنیم، زمان اجرا برابر $O(nlogn + m)$ می‌شود.\n",
    "<hr>\n",
    "</div>"
   ]
  },
  {
   "cell_type": "code",
   "execution_count": 5,
   "metadata": {
    "pycharm": {
     "name": "#%%\n"
    }
   },
   "outputs": [],
   "source": [
    "int prim(int parent[],vector<pii> adj[N]){\n",
    "    priority_queue<pii, vector<pii>, greater<pii>> candidates;\n",
    "    bool inSet[N] = {false};\n",
    "    int bestEdge[N];\n",
    "    for(int i = 0; i < N; i++){\n",
    "        bestEdge[i] = INF;\n",
    "    }\n",
    "    bestEdge[0] = 0;\n",
    "    parent[0] = -1;\n",
    "    int minCost = 0;\n",
    "    candidates.push(make_pair(0,0));\n",
    "    while(!candidates.empty()){\n",
    "        int v = candidates.top().second;\n",
    "        candidates.pop();\n",
    "        if(inSet[v])\n",
    "            continue;\n",
    "        minCost += bestEdge[v];\n",
    "        inSet[v] = true;\n",
    "        for(pii e : adj[v]){\n",
    "            int u = e.first , w = e.second;\n",
    "            if(!inSet[u] && w < bestEdge[u]){\n",
    "                bestEdge[u] = w;\n",
    "                parent[u] = v;\n",
    "                candidates.push(make_pair(bestEdge[u],u));\n",
    "            }\n",
    "        }\n",
    "    }\n",
    "    return minCost;\n",
    "}"
   ]
  },
  {
   "cell_type": "code",
   "execution_count": 5,
   "metadata": {
    "pycharm": {
     "name": "#%%\n"
    }
   },
   "outputs": [
    {
     "ename": "SyntaxError",
     "evalue": "invalid syntax (<ipython-input-5-2b29f7008839>, line 2)",
     "output_type": "error",
     "traceback": [
      "\u001b[1;36m  File \u001b[1;32m\"<ipython-input-5-2b29f7008839>\"\u001b[1;36m, line \u001b[1;32m2\u001b[0m\n\u001b[1;33m    int n = 10;\u001b[0m\n\u001b[1;37m        ^\u001b[0m\n\u001b[1;31mSyntaxError\u001b[0m\u001b[1;31m:\u001b[0m invalid syntax\n"
     ]
    }
   ],
   "source": [
    "{\n",
    "    vector<pii> g[N] ={\n",
    "        vector<pii>({{1,3},{2,4}}),\n",
    "        vector<pii>({{0,3},{2,2},{4,1}}),\n",
    "        vector<pii>({{0,4},{1,2},{3,9}}),\n",
    "        vector<pii>({{2,9},{4,5}}),\n",
    "        vector<pii>({{1,1},{3,5}})\n",
    "    };\n",
    "    int p[N] = {0};\n",
    "    cout<<prim(p,g2)<<endl;\n",
    "    for(int i=0;i<N;i++){\n",
    "        cout<<p[i]<<\" \";\n",
    "    }\n",
    "    cout<<endl;\n",
    "}"
   ]
  },
  {
   "cell_type": "markdown",
   "metadata": {},
   "source": [
    "<div style=\"direction:rtl; font-size: 17px; font-family: 'XB Zar'; line-height: 200%\">\n",
    "<div style=\"font-size: 17px; color: #ff6600; font-weight: bold\">\n",
    "تحلیل این پیاده‌سازی\n",
    "</div> <br>\n",
    "    در این حالت در هرم کمینه $candidates$ در هر لحظه برای راس‌های بیرون از $S$ کم‌وزن‌ترین یال متصل به آن‌ها را داریم و هر بار سر این هرم را می‌گیریم و آن را به $S$ اضافه می‌کنیم و سپس کم‌وزن‌ترین یال متصل به همسایه‌های خارج از $S$ آن‌را در صورت نیاز تغییر می‌دهیم و آن‌ها را دوباره به $candidates$ اضافه می‌کنیم.\n",
    "    <br>\n",
    "    در این پیاده‌سازی برای هر راس محتویات حلقه یک بار اجرا می‌شود و حداکقر هر همسایه‌اش در آن یک بار به هرم اضافه می‌شود که هر اضافه کردن در $O(logn)$ انجام می‌شود و در مجموع الگوریتم در زمان $O(mlogn)$ اجرا می‌شود.\n",
    "    \n",
    "</div>"
   ]
  },
  {
   "cell_type": "markdown",
   "metadata": {},
   "source": [
    "<div id=\"section3\" style=\"direction:rtl; font-size: 17px; font-family: 'XB Zar'; line-height: 200%\">\n",
    "<div style=\"font-size: 22px; color: #ff6600; font-weight: bold\">\n",
    "الگوریتم Kruskal</div><br>            \n",
    "<hr>\n",
    "</div>"
   ]
  }
 ],
 "metadata": {
  "kernelspec": {
   "display_name": "Python 3",
   "language": "python",
   "name": "python3"
  },
  "language_info": {
   "codemirror_mode": {
    "name": "ipython",
    "version": 3
   },
   "file_extension": ".py",
   "mimetype": "text/x-python",
   "name": "python",
   "nbconvert_exporter": "python",
   "pygments_lexer": "ipython3",
   "version": "3.8.1"
  }
 },
 "nbformat": 4,
 "nbformat_minor": 4
}
