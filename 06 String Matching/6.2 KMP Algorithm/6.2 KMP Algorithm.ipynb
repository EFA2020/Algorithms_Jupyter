{
 "cells": [
  {
   "cell_type": "markdown",
   "metadata": {},
   "source": [
    " <div style=\"direction:rtl;line-height:300%;\"> <font face=\"XB Zar\">\n",
    "<div align=center>\n",
    "    <div style=\"font-size:14px\">\n",
    "    به نام خدا\n",
    "    </div><br>\n",
    "    <strong><div style=\"font-size:50px; color: blue\">\n",
    "    طراحی الگوریتم‌ها\n",
    "    </div></strong>\n",
    "    <br>\n",
    "    <div style=\"font-size:20px; color: #ff6600\">\n",
    "    دانشگاه صنعتی شریف، دانشکده مهندسی کامپیوتر\n",
    "    </div>\n",
    "    <div style=\"font-size:15px; color: black\">\n",
    "        نیم‌سال دوم سال تحصیلی ۹۸-۹۹\n",
    "    </div>\n",
    "    <hr>\n",
    "    <strong><div style=\"font-size:35px; color: red\">\n",
    "        فصل دوم: برنامه‌نویسی پویا\n",
    "    </div></strong><br>\n",
    "    <div style=\"font-size:30px; color: navy\">\n",
    "        تطابق رشته‌ها:الگوریتم kmp\n",
    "    </div><br>\n",
    "    <div style=\"font-size:20px; color: black\">\n",
    "        محمد صانعیان، علیرضا دقیق\n",
    "    </div>\n",
    "\n",
    "</div>\n",
    "<hr>"
   ]
  },
  {
   "cell_type": "markdown",
   "metadata": {},
   "source": [
    "<div style=\"direction:rtl; font-size: 17px; font-family: 'XB Zar'; line-height: 200%\">\n",
    "<div style=\"font-size: 22px; color: #ff6600; font-weight: bold\">\n",
    "فهرست محتویات\n",
    "</div>         \n",
    "<ul style=\"margin-right: 0;\">\n",
    "    <li><a href=\"#section1\">مقدمه</a></li>\n",
    "    <li><a href=\"#section2\">تابع پیشوند برای یک الگو</a></li>\n",
    "    <li><a href=\"#section3\"> الگوریتم kmp</a></li>\n",
    "    <li><a href=\"section4\">پیچیدگی زمانی</a></li>\n",
    "    <li><a href=\"section4\">محاسبه تابع شکست</a></li>\n",
    "\n",
    "</ul>\n",
    "</div>"
   ]
  },
  {
   "cell_type": "markdown",
   "metadata": {},
   "source": [
    "<div id=\"section1\" style=\"direction:rtl; font-size: 17px; font-family: 'XB Zar'; line-height: 200%\">\n",
    "<div style=\"font-size: 22px; color: #ff6600; font-weight: bold\">\n",
    "مقدمه\n",
    "</div>\n",
    "    <br>\n",
    "الگوریتم kmp یک الگوریتم تطابق رشته خطی مبتنی بر محاسبه یک تابع کمکی به‌نام π که این تابع در π[1..m] ذخیره شده است می‌باشد.\n",
    "<br>\n",
    "    فرض کنید می‌خواهیم رشته Pattern را در رشته S پیدا کنیم. \n",
    "به صورت شهودی می‌خواهیم از چپ به راست حرکت کنیم و هر بار بدانیم که چه‌مقدار از Pattern  را دیدیم.<br>\n",
    "    الگوریتم بدیهی را درنظر بگیرید. در این الگوریتم می‌آییم به طور بدیهی می‌آییم بلندترین پیشوند را محاسبه کنیم. اکنون می‌خواهیم به وسیله تابع π این پیشوند را محاسبه کنیم. \n",
    "    \n",
    "</div>\n",
    "<hr>"
   ]
  },
  {
   "cell_type": "markdown",
   "metadata": {},
   "source": [
    "<div id=\"section2\" style=\"direction:rtl; font-size: 17px; font-family: 'XB Zar'; line-height: 200%\">\n",
    "<div style=\"font-size: 22px; color: #ff6600; font-weight: bold\">\n",
    "تابع پیشوند برای یک الگو\n",
    "</div><br>\n",
    "تابع پیشوند برای یک الگو,اطلاعاتی را در مورد اینکه الگو چگونه با  جابجایی هایی از خود مطابقت می‌یابد ذخیره‌می‌کند.\n",
    "<br>\n",
    "به طورکلی مفید است جواب  سوال زیر را بدانیم:\n",
    "    با دانستن اینکه کارکتر های P[1..q] در الگو باکارکتر های S[s+1..s+q] در متن مطابقت دارند کوچکترین جابجایی s'>s به طوری که P[1..k] = S[s'+1..s'+k] که در آن s' + k = s + q باشد چیست؟ <br>\n",
    "به طور مثال فرض کنید یک زیر رشته به طول 5 از Pattern با یک زیررشته به طول 5 از رشته اصلی مطابقت دارد.اگر کارکتر ششم مطابقت داشت که جلو می‌رویم در غیر این صورت به کمک تابع π می‌فهمیم که به کدام کارکتر از Pattern بازگردیم. \n",
    "\n",
    "</div>\n",
    "<hr>"
   ]
  },
  {
   "cell_type": "markdown",
   "metadata": {},
   "source": [
    "<div id=\"section3\" style=\"direction:rtl; font-size: 17px; font-family: 'XB Zar'; line-height: 200%\">\n",
    "    <div style=\"font-size: 22px; color: #ff6600; font-weight: bold\">\n",
    "الگوریتم kmp\n",
    "</div><br>\n",
    "فرض کنید می‌خواهیم رخدادهای t در s را پیدا کنیم. زیررشته‌ی متوالی حروف i تا j یک رشته مانند a را با a[i..j] نشان می‌دهیم. فرض کنید T(i) بلندترین پیشوند از t باشد که پسوند t[0..i−1] نیز هست اما با آن برابر نیست. برای i=0، فرض می‌کنیم T(0)=−1 و T(1)=0. برای مثال:<br>"
   ]
  },
  {
   "cell_type": "raw",
   "metadata": {},
   "source": [
    "i \t0 \t1 \t2 \t3 \t4 \t5 \t6\n",
    "W[i] \tA \tB \tC \tD \tA \tB \tD\n",
    "T[i] \t-1 \t0 \t0 \t0 \t0 \t1 \t2"
   ]
  },
  {
   "cell_type": "markdown",
   "metadata": {},
   "source": [
    "<div id=\"section2\" style=\"direction:rtl; font-size: 17px; font-family: 'XB Zar'; line-height: 200%\">\n",
    "فرض کنید بتوانیم این تابع را در O(m) برای t محاسبه کنیم. الگوریتم KMP با استفاده از این تابع می‌تواند در O(n+m) مسئله‌ی یافتن رخدادها را حل کند. برای این‌کار الگوریتم روی حروف s حرکت می‌کند و با اضافه شدن هر حرف، عدد x را به روزرسانی می‌کند طوری که عدد x بعد از اضافه شدن حرف i برابر با طول بلندترین پیشوند t باشد که پسوند s[0..i] است.<br>\n",
    "    برای این‌کار کافی است به این نکته توجه شود که در هر لحظه s[i−x+1..i]=t[0..x−1] و به ازای هر y>x ، s[i−y+1..i]≠t[0..y−1]. بنابراین اگر s[i−z+1..i+1]=t[0..z−1] داریم z<=x+1. بنابراین در محاسبه‌ی x پس از اضافه شدن حرف i+1 ام تنها زیررشته‌ی s[i−x+1..i+1] موثر است. براساس همین استدلال می‌توان به صورت استقرایی نتیجه گرفت که برای محاسبه‌ی x بعدی می‌توان از تکه‌کد زیر استفاده کرد:"
   ]
  },
  {
   "cell_type": "raw",
   "metadata": {},
   "source": [
    "while x > -1 and t[x] != s[i + 1] # Note that x is length and t is zero-base indexed\n",
    "\tx = T(x)\n",
    "x = x + 1"
   ]
  },
  {
   "cell_type": "markdown",
   "metadata": {},
   "source": []
  },
  {
   "cell_type": "markdown",
   "metadata": {},
   "source": [
    "<div id=\"section4\" style=\"direction:rtl; font-size: 17px; font-family: 'XB Zar'; line-height: 200%\">\n",
    "    <div style=\"font-size: 22px; color: #ff6600; font-weight: bold\">\n",
    "پیچیدگی زمانی\n",
    "</div><br>\n",
    "فرض شد که بتوانیم قسمت اول الگوریتم، یعنی محاسبه‌ی T(i) را در O(m) انجام دهیم. جهت بررسی پیچیدگی ساده‌تر قسمت دوم فرض کنید j=i−x+1 در این صورت مقدار i+j اکیدا صعودی است. در ابتدا i+j=0 و در انتها i+j<=2n پس در کل پیچیدگی زمانی این قسمت از الگوریتم از O(n) خواهد بود. پس به طور کلی پیچیدگی زمانی الگوریتم O(n+m) خواهد بود."
   ]
  },
  {
   "cell_type": "markdown",
   "metadata": {},
   "source": [
    "<div id=\"section5\" style=\"direction:rtl; font-size: 17px; font-family: 'XB Zar'; line-height: 200%\">\n",
    "    <div style=\"font-size: 22px; color: #ff6600; font-weight: bold\">\n",
    "محاسبه تابع شکست\n",
    "</div><br>\n",
    "تابع T(i) را تابع شکست (failure function) رشته‌ی t می‌گویند. برای محاسبه‌ی این تابع در ابتدا می‌دانیم T(0)=−1 و T(1)=0. حال دقیقا مطابق استدلال‌هایی که در قسمت اصلی الگوریتم انجام شد می‌توان T(j) را از روی T(j−1) محاسبه کرد."
   ]
  },
  {
   "cell_type": "code",
   "execution_count": null,
   "metadata": {},
   "outputs": [],
   "source": []
  }
 ],
 "metadata": {
  "kernelspec": {
   "display_name": "Python 3",
   "language": "python",
   "name": "python3"
  },
  "language_info": {
   "codemirror_mode": {
    "name": "ipython",
    "version": 3
   },
   "file_extension": ".py",
   "mimetype": "text/x-python",
   "name": "python",
   "nbconvert_exporter": "python",
   "pygments_lexer": "ipython3",
   "version": "3.7.4"
  }
 },
 "nbformat": 4,
 "nbformat_minor": 2
}
