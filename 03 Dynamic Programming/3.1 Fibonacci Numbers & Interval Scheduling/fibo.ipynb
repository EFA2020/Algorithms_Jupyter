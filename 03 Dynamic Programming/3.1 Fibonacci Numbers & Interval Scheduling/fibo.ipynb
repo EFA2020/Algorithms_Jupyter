{
 "cells": [
  {
   "cell_type": "markdown",
   "metadata": {},
   "source": [
    " <div style=\"direction:rtl;line-height:300%;\"> <font face=\"XB Zar\">\n",
    "<div align=center>\n",
    "    <div style=\"font-size:14px\">\n",
    "    به نام خدا\n",
    "    </div><br>\n",
    "    <strong><div style=\"font-size:50px; color: blue\">\n",
    "    طراحی الگوریتم‌ها\n",
    "    </div></strong>\n",
    "    <br>\n",
    "    <div style=\"font-size:20px; color: #ff6600\">\n",
    "    دانشگاه صنعتی شریف، دانشکده مهندسی کامپیوتر\n",
    "    </div>\n",
    "    <div style=\"font-size:15px; color: black\">\n",
    "        نیم‌سال دوم سال تحصیلی ۹۸-۹۹\n",
    "    </div>\n",
    "    <hr>\n",
    "    <strong><div style=\"font-size:35px; color: red\">\n",
    "        فصل دوم: برنامه‌نویسی پویا\n",
    "    </div></strong><br>\n",
    "    <div style=\"font-size:30px; color: navy\">\n",
    "        اعداد فیبوناچی\n",
    "    </div><br>\n",
    "    <div style=\"font-size:20px; color: black\">\n",
    "        پارسا اسکندر، محمد صانعیان\n",
    "    </div>\n",
    "\n",
    "</div>\n",
    "<hr>"
   ]
  },
  {
   "cell_type": "markdown",
   "metadata": {},
   "source": [
    "<div style=\"direction:rtl; font-size: 17px; font-family: 'XB Zar'; line-height: 200%\">\n",
    "<div style=\"font-size: 22px; color: #ff6600; font-weight: bold\">\n",
    "فهرست محتویات\n",
    "</div>         \n",
    "<ul style=\"margin-right: 0;\">\n",
    "    <li><a href=\"#section1\">مقدمه</a></li>\n",
    "    <li><a href=\"#section2\">اعداد فیبوناچی</a></li>\n",
    "    <li><a href=\"#section3\">کد با تابع بازگشتی</a></li>   \n",
    "    <li><a href=\"#section4\">کد بهینه تر</a></li>  \n",
    "</ul>\n",
    "</div>"
   ]
  },
  {
   "cell_type": "markdown",
   "metadata": {},
   "source": [
    "<div id=\"section1\" style=\"direction:rtl; font-size: 17px; font-family: 'XB Zar'; line-height: 200%\">\n",
    "<div style=\"font-size: 22px; color: #ff6600; font-weight: bold\">\n",
    "مقدمه\n",
    "</div>\n",
    "    <br>\n",
    "   برنامه‌نویسی پویا از متد‌های بسیار پرکاربرد در طراحی الگوریتم‌هاست. اولین بار در سال ۱۹۵۰ توسط ریچارد بلمن ابداع شد و در بسیاری از زمینه‌های علمی به خصوص ریاضیات و علوم کامپیوتر کاربرد دارد. ایده پشت این دسته از الگورتیم‌ها این است که یک مسئله سخت را به مسائل مشابه و کوچکتر که حل آن‌ها راحت تر است بشکاند و با حل آن‌ها مسئله اصلی را حل کند. در واقع شباهتی هم به استقرا دارد که شما برای اثبات یک حکم با اثبات آن برای مثال‌های کوچک آن را تعمیم می‌دهید.\n",
    "<br>\n",
    "     \n",
    "    \n",
    "</div>\n",
    "<hr>"
   ]
  },
  {
   "cell_type": "markdown",
   "metadata": {},
   "source": [
    "<div id=\"section2\" style=\"direction:rtl; font-size: 17px; font-family: 'XB Zar'; line-height: 200%\">\n",
    "<div style=\"font-size: 22px; color: #ff6600; font-weight: bold\">\n",
    "اعداد فیبوناچی\n",
    "</div><br>\n",
    "به عنوان اولین مثال فرض کنید می‌خواهیم برنامه‌ای داشته باشیم که با ورودی گرفتن $n$ در خروجی عدد فیبوناچی $n$ ام را برگرداند. به یاد بیاوید که اعداد فیبوناچی به این شکل تعریف می‌شدند.\n",
    "    \n",
    "<br>\n",
    "\n",
    "<hr>"
   ]
  },
  {
   "cell_type": "markdown",
   "metadata": {},
   "source": [
    "<div id=\"section_def\" style=\"direction:ltr; font-size: 17px; font-family: 'XB Zar'; line-height: 200%\">\n",
    "<div style=\"font-size: 22px; font-weight: bold\">\n",
    "Definition\n",
    "</div><br>\n",
    "$ f_{0} = 0$\n",
    "   <br>\n",
    "$ f_{1} = 1$\n",
    "    <br>\n",
    "$ f_{n} = f_{n-1} + f_{n-2} $\n",
    "    <br>\n",
    "$ first few values: 0, 1, 1, 2, 3, 5, 8, 13, ... $\n",
    "<br>\n",
    "\n",
    "<hr>"
   ]
  },
  {
   "cell_type": "code",
   "execution_count": 1,
   "metadata": {},
   "outputs": [],
   "source": [
    "#include <iostream>\n",
    "using namespace std;"
   ]
  },
  {
   "cell_type": "code",
   "execution_count": 2,
   "metadata": {},
   "outputs": [],
   "source": [
    "int f_naive(int n){\n",
    "    if(n < 2)\n",
    "        return n;\n",
    "    return f_naive(n-1) + f_naive(n - 2);\n",
    "}\n"
   ]
  },
  {
   "cell_type": "code",
   "execution_count": 3,
   "metadata": {},
   "outputs": [
    {
     "name": "stdout",
     "output_type": "stream",
     "text": [
      "20\n",
      "6765\n"
     ]
    }
   ],
   "source": [
    "{\n",
    "    // Give input and evaluate running time!\n",
    "    int n;\n",
    "    cin >> n;\n",
    "    cout << f_naive(n) << endl;\n",
    "}"
   ]
  },
  {
   "cell_type": "markdown",
   "metadata": {},
   "source": [
    "<div id=\"section3\" style=\"direction:rtl; font-size: 17px; font-family: 'XB Zar'; line-height: 200%\">\n",
    "<div style=\"font-size: 22px; color: #ff6600; font-weight: bold\">\n",
    "کد با تابع بازگشتی\n",
    "</div>\n",
    "    <br>\n",
    "   در بالا یک کد با استفاده از تابع بازگشتی پیاده سازی شده، طبق همان تعریف اعداد فیبوناچی. زمان اجرای این کد چقدر است؟\n",
    "    چگونه می‌توان آن را بهبود داد؟\n",
    "<br>\n",
    "     \n",
    "    \n",
    "</div>\n",
    "<hr>"
   ]
  },
  {
   "cell_type": "markdown",
   "metadata": {},
   "source": [
    "<div id=\"section4\" style=\"direction:rtl; font-size: 17px; font-family: 'XB Zar'; line-height: 200%\">\n",
    "<div style=\"font-size: 22px; color: #ff6600; font-weight: bold\">\n",
    "کد بهینه تر\n",
    "</div><br>\n",
    "برای اینکه زمان اجرا بهتر شود آرایه‌ای نگه می‌داریم که عنصر $i$ ام آن همان $f_{i}$ باشد. با یک حلقه می‌توان در $O(n)$ ، $f_n$ را محاسبه کرد. بعدا می‌بینید که می‌توان این مسئله را در زمان $O(lg(n))$ هم حل کرد! \n",
    "<br>\n",
    "\n",
    "<hr>"
   ]
  },
  {
   "cell_type": "code",
   "execution_count": 4,
   "metadata": {},
   "outputs": [
    {
     "name": "stdout",
     "output_type": "stream",
     "text": [
      "20\n",
      "6765\n"
     ]
    }
   ],
   "source": [
    "{\n",
    "    int f[1000];\n",
    "    int n;\n",
    "    cin >> n;\n",
    "    f[0] = 0;\n",
    "    f[1] = 1;\n",
    "    for(int i=2; i<=n; i++)\n",
    "        f[i] = f[i - 1] + f[i - 2];\n",
    "    cout << f[n] << endl;\n",
    "}"
   ]
  }
 ],
 "metadata": {
  "kernelspec": {
   "display_name": "C++14",
   "language": "C++14",
   "name": "xcpp14"
  },
  "language_info": {
   "codemirror_mode": "text/x-c++src",
   "file_extension": ".cpp",
   "mimetype": "text/x-c++src",
   "name": "c++",
   "version": "-std=c++14"
  }
 },
 "nbformat": 4,
 "nbformat_minor": 2
}
